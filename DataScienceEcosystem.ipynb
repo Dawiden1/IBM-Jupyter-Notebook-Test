{
 "cells": [
  {
   "cell_type": "markdown",
   "id": "f4cf3fe1",
   "metadata": {},
   "source": [
    "# Data Science Tools and Ecosystem"
   ]
  },
  {
   "cell_type": "markdown",
   "id": "e6859d8d",
   "metadata": {},
   "source": [
    "In this notebook, Data Science Tools and Ecosystem are summarized."
   ]
  },
  {
   "cell_type": "markdown",
   "id": "919c2d20",
   "metadata": {},
   "source": [
    "Some of the popular languages that Data Scientists use are:\n",
    "* R\n",
    "* Python\n",
    "* Java"
   ]
  },
  {
   "cell_type": "markdown",
   "id": "1071ac1d",
   "metadata": {},
   "source": [
    "Some of the commonly used libraries used by Data Scientists include:\n",
    "1. Numpy\n",
    "2. Pandas\n",
    "3. Plotly"
   ]
  },
  {
   "cell_type": "markdown",
   "id": "7a1f9f88",
   "metadata": {},
   "source": [
    "|Data Science Tools|\n",
    "|:-----:|\n",
    "|RStudio|\n",
    "|Power BI|\n",
    "|Excel|\n",
    "|Python IDE|"
   ]
  },
  {
   "cell_type": "markdown",
   "id": "643c5cec",
   "metadata": {},
   "source": [
    "### Below are a few examples of evaluating arithmetic expressions in Python"
   ]
  },
  {
   "cell_type": "code",
   "execution_count": 15,
   "id": "995fa7c0",
   "metadata": {},
   "outputs": [
    {
     "data": {
      "text/plain": [
       "17"
      ]
     },
     "execution_count": 15,
     "metadata": {},
     "output_type": "execute_result"
    }
   ],
   "source": [
    "#This a simple arithmetic expression to mutiply then add integers\n",
    "(3*4)+5"
   ]
  },
  {
   "cell_type": "code",
   "execution_count": 16,
   "id": "9e3ffb25",
   "metadata": {},
   "outputs": [
    {
     "name": "stdout",
     "output_type": "stream",
     "text": [
      "3.33 h\n"
     ]
    }
   ],
   "source": [
    "#This will convert 200 minutes to hours by diving by 60\n",
    "print(str(round(200/60,2)) + \" h\")"
   ]
  },
  {
   "cell_type": "markdown",
   "id": "ee1fecf4",
   "metadata": {},
   "source": [
    "***Objectives:***\n",
    "* Knowledge of Jupyter Notebook\n",
    "* R Language\n",
    "* Python Language\n",
    "* Anaconda Installation"
   ]
  },
  {
   "cell_type": "markdown",
   "id": "797ca934",
   "metadata": {},
   "source": [
    "## Author\n",
    "## Dawid M"
   ]
  }
 ],
 "metadata": {
  "kernelspec": {
   "display_name": "Python 3 (ipykernel)",
   "language": "python",
   "name": "python3"
  },
  "language_info": {
   "codemirror_mode": {
    "name": "ipython",
    "version": 3
   },
   "file_extension": ".py",
   "mimetype": "text/x-python",
   "name": "python",
   "nbconvert_exporter": "python",
   "pygments_lexer": "ipython3",
   "version": "3.10.9"
  }
 },
 "nbformat": 4,
 "nbformat_minor": 5
}
